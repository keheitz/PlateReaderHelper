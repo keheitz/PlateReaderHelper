{
 "metadata": {
  "name": "",
  "signature": "sha256:b8bba65d3917a7f957e37f315cb783807fadb3f4ef568fc631d3a41c9f7d5890"
 },
 "nbformat": 3,
 "nbformat_minor": 0,
 "worksheets": [
  {
   "cells": [
    {
     "cell_type": "markdown",
     "metadata": {},
     "source": [
      "## Plate Reader Helper\n",
      "By Kelly Heitz\n"
     ]
    },
    {
     "cell_type": "heading",
     "level": 3,
     "metadata": {},
     "source": [
      "Variables"
     ]
    },
    {
     "cell_type": "markdown",
     "metadata": {},
     "source": [
      "Change these values before running to reflect input data, e.g.:\n",
      "* filename = 'newfiletotext.txt'\n",
      "* compounds = {1:'NDP-MSH', 2:'a-MSH', 3:'MTII'}"
     ]
    },
    {
     "cell_type": "code",
     "collapsed": false,
     "input": [
      "#Name of file with input data\n",
      "filename = 'input.txt' #must be saved in same directory as script\n",
      "readings_filename = 'read_test.csv'\n",
      "statistics_filename = 'stats_test.csv'\n",
      "\n",
      "#Number of replicates - i.e. Divide 12 by the number of compounds on the plate, and match number of compound names (usually 3 or 4).\n",
      "numreplicates = 4\n",
      "\n",
      "#Compound labels\n",
      "compounds = {1:'Compound A', 2:'Compound B', 3:'Compound C'}\n",
      "\n",
      "#Row Labels (concentration - 1 is first row, 8 is last row)\n",
      "concentrations = {1:'Control', 2:'10^-12', 3:'10^-11', 4:'10^-10', 5:'10^-09', 6:'10^-08', 7:'10^-07', 8:'10^-06'}\n"
     ],
     "language": "python",
     "metadata": {},
     "outputs": [],
     "prompt_number": 2
    },
    {
     "cell_type": "heading",
     "level": 3,
     "metadata": {},
     "source": [
      "Import Packages and Define Additional Variables"
     ]
    },
    {
     "cell_type": "code",
     "collapsed": false,
     "input": [
      "#Header column labels for final output - eventually will be configurable, don't change with current script\n",
      "column_labels = ['PlateRead', 'Concentration', 'Compound', 'Time', 'Fluorescence']"
     ],
     "language": "python",
     "metadata": {},
     "outputs": [],
     "prompt_number": 3
    },
    {
     "cell_type": "code",
     "collapsed": false,
     "input": [
      "import numpy as np\n",
      "import pandas as pd\n",
      "import csv\n",
      "from decimal import *"
     ],
     "language": "python",
     "metadata": {},
     "outputs": [],
     "prompt_number": 4
    },
    {
     "cell_type": "heading",
     "level": 3,
     "metadata": {},
     "source": [
      "Read data from input file"
     ]
    },
    {
     "cell_type": "code",
     "collapsed": false,
     "input": [
      "formatted_data = []\n",
      "with open(filename) as f:\n",
      "    platecount = 1 #dataset being read from first plate\n",
      "    rowcount = 0\n",
      "    outputrowcount = 0\n",
      "    reader = csv.reader(f, skipinitialspace=True, delimiter='\\t')\n",
      "    #skip first 3 rows; these are headers\n",
      "    reader.next()\n",
      "    reader.next()\n",
      "    reader.next()\n",
      "    for row in reader:\n",
      "        row = row[2:14] #because of formatting, file is read in with 16 values (2 extra on each end) rather than 12, slice to the 12 we want\n",
      "        #rows with single val represent the break between plates\n",
      "        if len(row) == 1: #new plate\n",
      "            platecount += 1 #increase\n",
      "            #reset row counting\n",
      "            rowcount = 0\n",
      "            outputrowcount = 0\n",
      "        else:\n",
      "            rowcount += 1 #new row containing data in file\n",
      "            \n",
      "            if rowcount % 2 != 0: #data for each well in plate is on two lines, using even/odd to keep track of the lines to zip\n",
      "                row1 = [float(x) for x in row]\n",
      "            else:\n",
      "                outputrowcount += 1\n",
      "                row2 = [float(x) for x in row]\n",
      "                zippedrows = zip(row1, row2) #time is on first row, fluorescence on second - zip together to handle each as indiv measurement\n",
      "                composite_list = [zippedrows[x:x+numreplicates] for x in range(0, len(zippedrows),numreplicates)] #group of indicated wells in plate\n",
      "                for compoundcount, compound in enumerate(composite_list):\n",
      "                    for readings in compound:\n",
      "                        reading = [platecount, outputrowcount, compoundcount+1, readings[0], readings[1]] #compounds and rows are 1-based for consistency with lab\n",
      "                        formatted_data.append(reading)"
     ],
     "language": "python",
     "metadata": {},
     "outputs": [],
     "prompt_number": 5
    },
    {
     "cell_type": "code",
     "collapsed": false,
     "input": [
      "#read formatted data into dataframe so we can easily replace and later do additional grouping\n",
      "df = pd.DataFrame(formatted_data)\n",
      "#replace columns, and replace integer values for rows and compound groups with meaningful labels (set as variable)\n",
      "df.columns = column_labels\n",
      "df = df.replace({column_labels[1]:concentrations})\n",
      "df = df.replace({column_labels[2]: compounds})"
     ],
     "language": "python",
     "metadata": {},
     "outputs": [],
     "prompt_number": 6
    },
    {
     "cell_type": "code",
     "collapsed": false,
     "input": [
      "grouped = df.groupby([column_labels[0], column_labels[1], column_labels[2]], as_index=False)"
     ],
     "language": "python",
     "metadata": {},
     "outputs": [],
     "prompt_number": 7
    },
    {
     "cell_type": "markdown",
     "metadata": {},
     "source": [
      "###The following block subtracts 3.75 seconds from the first well in each row (Column 1). \n",
      "\n",
      "(if not necessary, comment out code block below by highlighting cell and hitting CTRL + /)"
     ]
    },
    {
     "cell_type": "code",
     "collapsed": false,
     "input": [
      "#find rows where time needs to be updated because output had fixed added number\n",
      "rowswanted = grouped.head(1)\n",
      "rowswanted = rowswanted[rowswanted[column_labels[2]] == compounds[1]]\n",
      "#update Time for each row in rowswanted\n",
      "df.loc[rowswanted.index, 'Time'] = df.loc[rowswanted.index, 'Time'] - 3.75"
     ],
     "language": "python",
     "metadata": {},
     "outputs": [],
     "prompt_number": 8
    },
    {
     "cell_type": "heading",
     "level": 3,
     "metadata": {},
     "source": [
      "Summary Statistics"
     ]
    },
    {
     "cell_type": "code",
     "collapsed": false,
     "input": [
      "grouped_stat = df.groupby([column_labels[0], column_labels[1], column_labels[2]])"
     ],
     "language": "python",
     "metadata": {},
     "outputs": [],
     "prompt_number": 9
    },
    {
     "cell_type": "code",
     "collapsed": false,
     "input": [
      "#obtain summary statistics desired - in this case the fluorescence mean and standard deviation, and time mean\n",
      "#for each plate-concentration-compound group\n",
      "fluor_stats = pd.pivot_table(df, index=['PlateRead','Concentration', 'Compound'], values=['Fluorescence'], aggfunc=[np.mean, np.std]).reset_index()\n",
      "time_avg = pd.pivot_table(df, index=['PlateRead', 'Concentration', 'Compound'], values=['Time'], aggfunc=[np.mean]).reset_index()\n",
      "#concat our statistics together so we have summary of fluorescence and time on each row\n",
      "sumstats = pd.concat([fluor_stats, time_avg], axis=1 )"
     ],
     "language": "python",
     "metadata": {},
     "outputs": [],
     "prompt_number": 10
    },
    {
     "cell_type": "code",
     "collapsed": false,
     "input": [
      "#TODO: make this more flexible later - for now we want to get rid of the duplicated columns\n",
      "#rename to make it easy to find the ones we don't want\n",
      "sumstats.columns = ['Plate Read', 'Concentration', 'Compound', 'Avg Fluorescence', 'Standard Deviation', 'Drop1', 'Drop2', 'Drop3', 'Avg Time']\n",
      "#drop the sumstats\n",
      "sumstats = sumstats.drop(['Drop1', 'Drop2', 'Drop3'], axis=1) "
     ],
     "language": "python",
     "metadata": {},
     "outputs": [],
     "prompt_number": 11
    },
    {
     "cell_type": "heading",
     "level": 3,
     "metadata": {},
     "source": [
      "Write to output files"
     ]
    },
    {
     "cell_type": "code",
     "collapsed": false,
     "input": [
      "# write our results dataframe of just readings to a .csv file\n",
      "df.to_csv(readings_filename)\n",
      "sumstats.to_csv(statistics_filename)"
     ],
     "language": "python",
     "metadata": {},
     "outputs": [],
     "prompt_number": 12
    }
   ],
   "metadata": {}
  }
 ]
}
